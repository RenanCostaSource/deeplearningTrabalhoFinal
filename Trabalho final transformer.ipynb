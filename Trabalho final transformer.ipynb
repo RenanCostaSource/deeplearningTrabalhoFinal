{
 "cells": [
  {
   "cell_type": "code",
   "execution_count": 1,
   "id": "4dc18f3a",
   "metadata": {},
   "outputs": [],
   "source": [
    "import pathlib\n",
    "import random\n",
    "import string\n",
    "import re\n",
    "import numpy as np\n",
    "import tensorflow as tf\n",
    "from tensorflow import keras\n",
    "from tensorflow.keras import layers\n",
    "from tensorflow.keras.layers import TextVectorization\n",
    "import matplotlib.pyplot as plt"
   ]
  },
  {
   "cell_type": "code",
   "execution_count": 2,
   "id": "ff44a56f",
   "metadata": {},
   "outputs": [],
   "source": [
    "\n",
    "with open(\"corpus_0001.clean.asl.txt\", encoding=\"utf8\") as f:\n",
    "    linesASL = f.read().split(\"\\n\")[:-1]\n",
    "with open(\"corpus_0001.clean.en.txt\", encoding=\"utf8\") as f:\n",
    "    linesEN = f.read().split(\"\\n\")[:-1]\n"
   ]
  },
  {
   "cell_type": "code",
   "execution_count": 3,
   "id": "98263405",
   "metadata": {},
   "outputs": [
    {
     "name": "stdout",
     "output_type": "stream",
     "text": [
      "1060672\n",
      "1060672\n"
     ]
    }
   ],
   "source": [
    "print(len(linesASL))\n",
    "print(len(linesEN))"
   ]
  },
  {
   "cell_type": "code",
   "execution_count": 4,
   "id": "d0c738d8",
   "metadata": {},
   "outputs": [],
   "source": [
    "\n",
    "text_pairs = []\n",
    "for i in range(len(linesASL)):\n",
    "    glosa = \"[start] \" + linesASL[i] + \" [end]\"\n",
    "    text_pairs.append((linesEN[i], glosa))"
   ]
  },
  {
   "cell_type": "code",
   "execution_count": 5,
   "id": "9af08560",
   "metadata": {},
   "outputs": [
    {
     "data": {
      "text/plain": [
       "1060672"
      ]
     },
     "execution_count": 5,
     "metadata": {},
     "output_type": "execute_result"
    }
   ],
   "source": [
    "len(text_pairs)"
   ]
  },
  {
   "cell_type": "code",
   "execution_count": 6,
   "id": "687d1acc",
   "metadata": {},
   "outputs": [
    {
     "name": "stdout",
     "output_type": "stream",
     "text": [
      "('THIS SILENCE COULD NOT CONTINUE LONG WITHOUT ATTRACTING THE ATTENTION OF THE REST OF THE PARTY ; UPON WHICH MR ARNOLD SAID :', '[start]  THIS SILENCE COULD NOT CONTINUE LONG WITHOUT ATTRACTING ATTENTION-REST-PARTY UPON WHICH MR ARNOLD SAID  [end]')\n",
      "('BUT I SAY   HERE WITHAL IS ONE NOT PHANTASMAL ; OF INDISPUTABLE CERTAINTY   HOME-GROWN   JUST COMMENCING BUSINESS   WHO CARRIED IT FAR !', '[start]  BUT PRO-1 SAY HERE WITHALBEONE NOT PHANTASMAL -INDISPUTABLE CERTAINTY HOME-GROWN JUST COMMENCING BUSINESS wh-q(who)CARRIED PRO-3(it) FAR  [end]')\n",
      "('\" SI LES MALADE TOUSSE IL USERA SOIT DE JOUR SOIT DE NUIT PAR PETITES CUILLEREES A CASSE D  UN LOOCH   QUI SERA FAIT AVEC UN ONCE DE SYROP DE VIOLAT ET UN DRAGME DE BLANC DE BALEINE ', '[start]  SI LES MALADE TOUSSE IL USERA SOIT DE JOUR SOIT DE NUIT PAR PETITES CUILLEREES CASSE UN LOOCH QUI SERA FAIT AVEC UN ONCE DE SYROP DE VIOLAT ET UN DRAGME DE BLANC DE BALEINE  [end]')\n",
      "('I WROTE TO YOU LAST WEEK   ASKING YOU TO VISIT ME ', '[start]  PRO-1 WROTE TO PRO-2 LAST WEEK ASKING PRO-2 TO VISIT PRO-1(me)  [end]')\n",
      "('  FROM 1716 TO 1720    [ \" BORN 1689 \" ( RODENBECK   P ', '[start]  FROM 1716 TO 1720 BORN 1689 RODENBECK  [end]')\n"
     ]
    }
   ],
   "source": [
    "for _ in range(5):\n",
    "    print(random.choice(text_pairs))"
   ]
  },
  {
   "cell_type": "code",
   "execution_count": 7,
   "id": "3074ee39",
   "metadata": {},
   "outputs": [
    {
     "name": "stdout",
     "output_type": "stream",
     "text": [
      "1060672 total pairs\n",
      "742472 training pairs\n",
      "159100 validation pairs\n",
      "159100 test pairs\n"
     ]
    }
   ],
   "source": [
    "random.shuffle(text_pairs)\n",
    "num_val_samples = int(0.15 * len(text_pairs))\n",
    "num_train_samples = len(text_pairs) - 2 * num_val_samples\n",
    "train_pairs = text_pairs[:num_train_samples]\n",
    "val_pairs = text_pairs[num_train_samples : num_train_samples + num_val_samples]\n",
    "test_pairs = text_pairs[num_train_samples + num_val_samples :]\n",
    "\n",
    "print(f\"{len(text_pairs)} total pairs\")\n",
    "print(f\"{len(train_pairs)} training pairs\")\n",
    "print(f\"{len(val_pairs)} validation pairs\")\n",
    "print(f\"{len(test_pairs)} test pairs\")"
   ]
  },
  {
   "cell_type": "code",
   "execution_count": 8,
   "id": "b76cf093",
   "metadata": {},
   "outputs": [],
   "source": [
    "vocab_size = 15000\n",
    "sequence_length = 20\n",
    "batch_size = 64\n",
    "\n",
    "\n",
    "def custom_standardization(input_string):\n",
    "    lowercase = tf.strings.lower(input_string)\n",
    "    return lowercase\n",
    "\n",
    "\n",
    "eng_vectorization = TextVectorization(\n",
    "    max_tokens=vocab_size, output_mode=\"int\", output_sequence_length=sequence_length,\n",
    ")\n",
    "asl_vectorization = TextVectorization(\n",
    "    max_tokens=vocab_size,\n",
    "    output_mode=\"int\",\n",
    "    output_sequence_length=sequence_length + 1,\n",
    "    standardize=custom_standardization,\n",
    ")\n",
    "train_eng_texts = [pair[0] for pair in train_pairs]\n",
    "train_asl_texts = [pair[1] for pair in train_pairs]\n",
    "eng_vectorization.adapt(train_eng_texts)\n",
    "asl_vectorization.adapt(train_asl_texts)"
   ]
  },
  {
   "cell_type": "code",
   "execution_count": 9,
   "id": "b45edb4d",
   "metadata": {},
   "outputs": [],
   "source": [
    "def format_dataset(eng, asl):\n",
    "    eng = eng_vectorization(eng)\n",
    "    asl = asl_vectorization(asl)\n",
    "    return ({\"encoder_inputs\": eng, \"decoder_inputs\": asl[:, :-1],}, asl[:, 1:])\n",
    "\n",
    "\n",
    "def make_dataset(pairs):\n",
    "    eng_texts, asl_texts = zip(*pairs)\n",
    "    eng_texts = list(eng_texts)\n",
    "    asl_texts = list(asl_texts)\n",
    "    dataset = tf.data.Dataset.from_tensor_slices((eng_texts, asl_texts))\n",
    "    dataset = dataset.batch(batch_size)\n",
    "    dataset = dataset.map(format_dataset)\n",
    "    return dataset.shuffle(2048).prefetch(16).cache()\n",
    "\n",
    "\n",
    "train_ds = make_dataset(train_pairs)\n",
    "val_ds = make_dataset(val_pairs)"
   ]
  },
  {
   "cell_type": "code",
   "execution_count": 10,
   "id": "f65b810f",
   "metadata": {},
   "outputs": [
    {
     "name": "stdout",
     "output_type": "stream",
     "text": [
      "inputs[\"encoder_inputs\"].shape: (64, 20)\n",
      "inputs[\"decoder_inputs\"].shape: (64, 20)\n",
      "targets.shape: (64, 20)\n"
     ]
    }
   ],
   "source": [
    "for inputs, targets in train_ds.take(1):\n",
    "    print(f'inputs[\"encoder_inputs\"].shape: {inputs[\"encoder_inputs\"].shape}')\n",
    "    print(f'inputs[\"decoder_inputs\"].shape: {inputs[\"decoder_inputs\"].shape}')\n",
    "    print(f\"targets.shape: {targets.shape}\")"
   ]
  },
  {
   "cell_type": "code",
   "execution_count": 12,
   "id": "3a01639c",
   "metadata": {},
   "outputs": [],
   "source": [
    "class TransformerEncoder(layers.Layer):\n",
    "    def __init__(self, embed_dim, dense_dim, num_heads, **kwargs):\n",
    "        super(TransformerEncoder, self).__init__(**kwargs)\n",
    "        self.embed_dim = embed_dim\n",
    "        self.dense_dim = dense_dim\n",
    "        self.num_heads = num_heads\n",
    "        self.attention = layers.MultiHeadAttention(\n",
    "            num_heads=num_heads, key_dim=embed_dim\n",
    "        )\n",
    "        self.dense_proj = keras.Sequential(\n",
    "            [layers.Dense(dense_dim, activation=\"relu\"), layers.Dense(embed_dim),]\n",
    "        )\n",
    "        self.layernorm_1 = layers.LayerNormalization()\n",
    "        self.layernorm_2 = layers.LayerNormalization()\n",
    "        self.supports_masking = True\n",
    "\n",
    "    def call(self, inputs, mask=None):\n",
    "        if mask is not None:\n",
    "            padding_mask = tf.cast(mask[:, tf.newaxis, tf.newaxis, :], dtype=\"int32\")\n",
    "        attention_output = self.attention(\n",
    "            query=inputs, value=inputs, key=inputs, attention_mask=padding_mask\n",
    "        )\n",
    "        proj_input = self.layernorm_1(inputs + attention_output)\n",
    "        proj_output = self.dense_proj(proj_input)\n",
    "        return self.layernorm_2(proj_input + proj_output)\n",
    "\n",
    "\n",
    "class PositionalEmbedding(layers.Layer):\n",
    "    def __init__(self, sequence_length, vocab_size, embed_dim, **kwargs):\n",
    "        super(PositionalEmbedding, self).__init__(**kwargs)\n",
    "        self.token_embeddings = layers.Embedding(\n",
    "            input_dim=vocab_size, output_dim=embed_dim\n",
    "        )\n",
    "        self.position_embeddings = layers.Embedding(\n",
    "            input_dim=sequence_length, output_dim=embed_dim\n",
    "        )\n",
    "        self.sequence_length = sequence_length\n",
    "        self.vocab_size = vocab_size\n",
    "        self.embed_dim = embed_dim\n",
    "\n",
    "    def call(self, inputs):\n",
    "        length = tf.shape(inputs)[-1]\n",
    "        positions = tf.range(start=0, limit=length, delta=1)\n",
    "        embedded_tokens = self.token_embeddings(inputs)\n",
    "        embedded_positions = self.position_embeddings(positions)\n",
    "        return embedded_tokens + embedded_positions\n",
    "\n",
    "    def compute_mask(self, inputs, mask=None):\n",
    "        return tf.math.not_equal(inputs, 0)\n",
    "\n",
    "\n",
    "class TransformerDecoder(layers.Layer):\n",
    "    def __init__(self, embed_dim, latent_dim, num_heads, **kwargs):\n",
    "        super(TransformerDecoder, self).__init__(**kwargs)\n",
    "        self.embed_dim = embed_dim\n",
    "        self.latent_dim = latent_dim\n",
    "        self.num_heads = num_heads\n",
    "        self.attention_1 = layers.MultiHeadAttention(\n",
    "            num_heads=num_heads, key_dim=embed_dim\n",
    "        )\n",
    "        self.attention_2 = layers.MultiHeadAttention(\n",
    "            num_heads=num_heads, key_dim=embed_dim\n",
    "        )\n",
    "        self.dense_proj = keras.Sequential(\n",
    "            [layers.Dense(latent_dim, activation=\"relu\"), layers.Dense(embed_dim),]\n",
    "        )\n",
    "        self.layernorm_1 = layers.LayerNormalization()\n",
    "        self.layernorm_2 = layers.LayerNormalization()\n",
    "        self.layernorm_3 = layers.LayerNormalization()\n",
    "        self.supports_masking = True\n",
    "\n",
    "    def call(self, inputs, encoder_outputs, mask=None):\n",
    "        causal_mask = self.get_causal_attention_mask(inputs)\n",
    "        if mask is not None:\n",
    "            padding_mask = tf.cast(mask[:, tf.newaxis, :], dtype=\"int32\")\n",
    "            padding_mask = tf.minimum(padding_mask, causal_mask)\n",
    "\n",
    "        attention_output_1 = self.attention_1(\n",
    "            query=inputs, value=inputs, key=inputs, attention_mask=causal_mask\n",
    "        )\n",
    "        out_1 = self.layernorm_1(inputs + attention_output_1)\n",
    "\n",
    "        attention_output_2 = self.attention_2(\n",
    "            query=out_1,\n",
    "            value=encoder_outputs,\n",
    "            key=encoder_outputs,\n",
    "            attention_mask=padding_mask,\n",
    "        )\n",
    "        out_2 = self.layernorm_2(out_1 + attention_output_2)\n",
    "\n",
    "        proj_output = self.dense_proj(out_2)\n",
    "        return self.layernorm_3(out_2 + proj_output)\n",
    "\n",
    "    def get_causal_attention_mask(self, inputs):\n",
    "        input_shape = tf.shape(inputs)\n",
    "        batch_size, sequence_length = input_shape[0], input_shape[1]\n",
    "        i = tf.range(sequence_length)[:, tf.newaxis]\n",
    "        j = tf.range(sequence_length)\n",
    "        mask = tf.cast(i >= j, dtype=\"int32\")\n",
    "        mask = tf.reshape(mask, (1, input_shape[1], input_shape[1]))\n",
    "        mult = tf.concat(\n",
    "            [tf.expand_dims(batch_size, -1), tf.constant([1, 1], dtype=tf.int32)],\n",
    "            axis=0,\n",
    "        )\n",
    "        return tf.tile(mask, mult)"
   ]
  },
  {
   "cell_type": "code",
   "execution_count": 15,
   "id": "bdeb86d6",
   "metadata": {},
   "outputs": [],
   "source": [
    "embed_dim = 256\n",
    "latent_dim = 2048\n",
    "num_heads = 8\n",
    "\n",
    "encoder_inputs = keras.Input(shape=(None,), dtype=\"int64\", name=\"encoder_inputs\")\n",
    "x = PositionalEmbedding(sequence_length, vocab_size, embed_dim)(encoder_inputs)\n",
    "encoder_outputs = TransformerEncoder(embed_dim, latent_dim, num_heads)(x)\n",
    "encoder = keras.Model(encoder_inputs, encoder_outputs)\n",
    "\n",
    "decoder_inputs = keras.Input(shape=(None,), dtype=\"int64\", name=\"decoder_inputs\")\n",
    "encoded_seq_inputs = keras.Input(shape=(None, embed_dim), name=\"decoder_state_inputs\")\n",
    "x = PositionalEmbedding(sequence_length, vocab_size, embed_dim)(decoder_inputs)\n",
    "x = TransformerDecoder(embed_dim, latent_dim, num_heads)(x, encoded_seq_inputs)\n",
    "x = layers.Dropout(0.5)(x)\n",
    "decoder_outputs = layers.Dense(vocab_size, activation=\"softmax\")(x)\n",
    "decoder = keras.Model([decoder_inputs, encoded_seq_inputs], decoder_outputs)\n",
    "\n",
    "decoder_outputs = decoder([decoder_inputs, encoder_outputs])\n",
    "transformer = keras.Model(\n",
    "    [encoder_inputs, decoder_inputs], decoder_outputs, name=\"transformer\"\n",
    ")"
   ]
  },
  {
   "cell_type": "code",
   "execution_count": 16,
   "id": "d7c7efca",
   "metadata": {},
   "outputs": [
    {
     "name": "stdout",
     "output_type": "stream",
     "text": [
      "Model: \"model_2\"\n",
      "_________________________________________________________________\n",
      " Layer (type)                Output Shape              Param #   \n",
      "=================================================================\n",
      " encoder_inputs (InputLayer)  [(None, None)]           0         \n",
      "                                                                 \n",
      " positional_embedding_2 (Pos  (None, None, 256)        3845120   \n",
      " itionalEmbedding)                                               \n",
      "                                                                 \n",
      " transformer_encoder_1 (Tran  (None, None, 256)        3155456   \n",
      " sformerEncoder)                                                 \n",
      "                                                                 \n",
      "=================================================================\n",
      "Total params: 7,000,576\n",
      "Trainable params: 7,000,576\n",
      "Non-trainable params: 0\n",
      "_________________________________________________________________\n"
     ]
    }
   ],
   "source": [
    "encoder.summary()"
   ]
  },
  {
   "cell_type": "code",
   "execution_count": 17,
   "id": "151c6810",
   "metadata": {},
   "outputs": [
    {
     "name": "stdout",
     "output_type": "stream",
     "text": [
      "Model: \"model_3\"\n",
      "__________________________________________________________________________________________________\n",
      " Layer (type)                   Output Shape         Param #     Connected to                     \n",
      "==================================================================================================\n",
      " decoder_inputs (InputLayer)    [(None, None)]       0           []                               \n",
      "                                                                                                  \n",
      " positional_embedding_3 (Positi  (None, None, 256)   3845120     ['decoder_inputs[0][0]']         \n",
      " onalEmbedding)                                                                                   \n",
      "                                                                                                  \n",
      " decoder_state_inputs (InputLay  [(None, None, 256)]  0          []                               \n",
      " er)                                                                                              \n",
      "                                                                                                  \n",
      " transformer_decoder_1 (Transfo  (None, None, 256)   5259520     ['positional_embedding_3[0][0]', \n",
      " rmerDecoder)                                                     'decoder_state_inputs[0][0]']   \n",
      "                                                                                                  \n",
      " dropout_7 (Dropout)            (None, None, 256)    0           ['transformer_decoder_1[0][0]']  \n",
      "                                                                                                  \n",
      " dense_9 (Dense)                (None, None, 15000)  3855000     ['dropout_7[0][0]']              \n",
      "                                                                                                  \n",
      "==================================================================================================\n",
      "Total params: 12,959,640\n",
      "Trainable params: 12,959,640\n",
      "Non-trainable params: 0\n",
      "__________________________________________________________________________________________________\n"
     ]
    }
   ],
   "source": [
    "decoder.summary()"
   ]
  },
  {
   "cell_type": "code",
   "execution_count": 18,
   "id": "099ab736",
   "metadata": {},
   "outputs": [
    {
     "name": "stdout",
     "output_type": "stream",
     "text": [
      "Model: \"transformer\"\n",
      "__________________________________________________________________________________________________\n",
      " Layer (type)                   Output Shape         Param #     Connected to                     \n",
      "==================================================================================================\n",
      " encoder_inputs (InputLayer)    [(None, None)]       0           []                               \n",
      "                                                                                                  \n",
      " positional_embedding_2 (Positi  (None, None, 256)   3845120     ['encoder_inputs[0][0]']         \n",
      " onalEmbedding)                                                                                   \n",
      "                                                                                                  \n",
      " decoder_inputs (InputLayer)    [(None, None)]       0           []                               \n",
      "                                                                                                  \n",
      " transformer_encoder_1 (Transfo  (None, None, 256)   3155456     ['positional_embedding_2[0][0]'] \n",
      " rmerEncoder)                                                                                     \n",
      "                                                                                                  \n",
      " model_3 (Functional)           (None, None, 15000)  12959640    ['decoder_inputs[0][0]',         \n",
      "                                                                  'transformer_encoder_1[0][0]']  \n",
      "                                                                                                  \n",
      "==================================================================================================\n",
      "Total params: 19,960,216\n",
      "Trainable params: 19,960,216\n",
      "Non-trainable params: 0\n",
      "__________________________________________________________________________________________________\n",
      "Epoch 1/10\n",
      "11602/11602 [==============================] - 601s 51ms/step - loss: 1.8410 - accuracy: 0.6630 - val_loss: 1.2531 - val_accuracy: 0.7797\n",
      "Epoch 2/10\n",
      "11602/11602 [==============================] - 603s 52ms/step - loss: 1.2329 - accuracy: 0.7827 - val_loss: 1.0808 - val_accuracy: 0.8078\n",
      "Epoch 3/10\n",
      "11602/11602 [==============================] - 600s 52ms/step - loss: 1.1435 - accuracy: 0.7972 - val_loss: 1.0284 - val_accuracy: 0.8150\n",
      "Epoch 4/10\n",
      "11602/11602 [==============================] - 591s 51ms/step - loss: 1.1175 - accuracy: 0.8010 - val_loss: 1.0042 - val_accuracy: 0.8204\n",
      "Epoch 5/10\n",
      "11602/11602 [==============================] - 595s 51ms/step - loss: 1.1048 - accuracy: 0.8029 - val_loss: 0.9812 - val_accuracy: 0.8240\n",
      "Epoch 6/10\n",
      "11602/11602 [==============================] - 587s 51ms/step - loss: 1.0962 - accuracy: 0.8043 - val_loss: 0.9781 - val_accuracy: 0.8233\n",
      "Epoch 7/10\n",
      "11602/11602 [==============================] - 577s 50ms/step - loss: 1.0896 - accuracy: 0.8057 - val_loss: 0.9799 - val_accuracy: 0.8254\n",
      "Epoch 8/10\n",
      "11602/11602 [==============================] - 578s 50ms/step - loss: 1.0845 - accuracy: 0.8068 - val_loss: 0.9680 - val_accuracy: 0.8270\n",
      "Epoch 9/10\n",
      "11602/11602 [==============================] - 582s 50ms/step - loss: 1.0814 - accuracy: 0.8078 - val_loss: 0.9718 - val_accuracy: 0.8262\n",
      "Epoch 10/10\n",
      "11602/11602 [==============================] - 582s 50ms/step - loss: 1.0782 - accuracy: 0.8088 - val_loss: 0.9656 - val_accuracy: 0.8277\n"
     ]
    }
   ],
   "source": [
    "epochs = 10  # This should be at least 30 for convergence\n",
    "transformer.summary()\n",
    "transformer.compile(\n",
    "    \"rmsprop\", loss=\"sparse_categorical_crossentropy\", metrics=[\"accuracy\"]\n",
    ")\n",
    "history = transformer.fit(train_ds, epochs=epochs, validation_data=val_ds)"
   ]
  },
  {
   "cell_type": "code",
   "execution_count": 20,
   "id": "127f70ef",
   "metadata": {},
   "outputs": [
    {
     "data": {
      "image/png": "[encoded data removed]",
      "text/plain": [
       "<Figure size 432x288 with 1 Axes>"
      ]
     },
     "metadata": {
      "needs_background": "light"
     },
     "output_type": "display_data"
    }
   ],
   "source": [
    "plt.plot(history.history['accuracy'])\n",
    "plt.plot(history.history['val_accuracy'])\n",
    "plt.title('model accuracy')\n",
    "plt.ylabel('accuracy')\n",
    "plt.xlabel('epoch')\n",
    "plt.legend(['train', 'test'], loc='upper left')\n",
    "plt.show()"
   ]
  },
  {
   "cell_type": "code",
   "execution_count": 21,
   "id": "bf2d1671",
   "metadata": {},
   "outputs": [
    {
     "data": {
      "image/png": "[encoded data removed]",
      "text/plain": [
       "<Figure size 432x288 with 1 Axes>"
      ]
     },
     "metadata": {
      "needs_background": "light"
     },
     "output_type": "display_data"
    }
   ],
   "source": [
    "plt.plot(history.history['loss'])\n",
    "plt.plot(history.history['val_loss'])\n",
    "plt.title('model loss')\n",
    "plt.ylabel('loss')\n",
    "plt.xlabel('epoch')\n",
    "plt.legend(['train', 'test'], loc='upper left')\n",
    "plt.show()"
   ]
  },
  {
   "cell_type": "code",
   "execution_count": 19,
   "id": "e50cbf80",
   "metadata": {},
   "outputs": [
    {
     "name": "stdout",
     "output_type": "stream",
     "text": [
      "2486/2486 [==============================] - 51s 20ms/step - loss: 0.9656 - accuracy: 0.8277\n"
     ]
    },
    {
     "data": {
      "text/plain": [
       "[0.9656355381011963, 0.8277386426925659]"
      ]
     },
     "execution_count": 19,
     "metadata": {},
     "output_type": "execute_result"
    }
   ],
   "source": [
    "transformer.evaluate(val_ds, verbose=1)"
   ]
  },
  {
   "cell_type": "code",
   "execution_count": 35,
   "id": "c640bb9f",
   "metadata": {},
   "outputs": [
    {
     "name": "stdout",
     "output_type": "stream",
     "text": [
      "['[UNK]', 'said', 'kim', 'and', 'held', 'poss-3(he)', 'tongue']\n",
      "['just', 'because', '[UNK]']\n",
      "['frank', '[UNK]', 'ahead', 'turning', 'to', 'pro-3(he)', 'hours']\n",
      "['and', 'yet', 'god', 'wot', 'poss-1', '[UNK]', 'about', 'and', '[UNK]', 'many', '[UNK]', '[UNK]', 'especially', 'company', 'say', 'that', 'pro-1', 'have', '[UNK]', '[UNK]']\n",
      "['mighty', '[UNK]', '[UNK]', 'let', 'this', 'poss-1', 'history', 'become', 'famous', 'throughout', 'world']\n",
      "['boston', 'april', '[UNK]', '[UNK]']\n",
      "['if', 'pro-3(he)', 'cannot', 'breakfast', 'to', 'pay', 'for', 'sugar', 'pro-3(he)', 'must', 'go', 'without', 'sugar']\n",
      "['pro-1', 'knew', 'too', 'that', '[UNK]', 'time', 'in', 'entire', '[UNK]', 'that', '[UNK]', '[UNK]', '[UNK]', '[UNK]', '[UNK]', '[UNK]', '[UNK]', '[UNK]', '[UNK]', '[UNK]']\n",
      "['had', 'an', 'accident', 'then', 'happened', '[UNK]', 'kind', 'never', 'by', 'these', 'beasts', 'would', 'have', 'been', 'in', 'most', '[UNK]', '[UNK]', '[UNK]', '[UNK]']\n",
      "['[UNK]', 'thee', 'gentle']\n",
      "['pro-1', 'lingered', 'some', 'time', 'over', 'poss-1', '[UNK]', 'hearing', '[UNK]', '[UNK]', 'below', '[UNK]', '[UNK]', '[UNK]', 'below', '[UNK]', '[UNK]', '[UNK]', '[UNK]']\n",
      "['pro-1', 'death', 'poss-3(they)', 'situation', 'most', '[UNK]', '[UNK]']\n",
      "['one', '[UNK]', 'words', 'race', 'other', 'human', 'and', '[UNK]', 'to', 'apply', 'practically', 'that', '[UNK]', '[UNK]', '[UNK]']\n",
      "['but', 'gentle', 'sir', 'pro-1(me)', 'thinkes', 'pro-2', 'originally', 'like', 'stranger', 'may', 'pro-1', 'be', 'so', 'bold', 'to', 'know', '[UNK]', '[UNK]', '[UNK]']\n",
      "['[UNK]', 'and', '*', 'whatbethis', 'pro-1', 'hear', 'whispered', '[UNK]']\n",
      "['don', 'tell', 'pro-1(me)', 'pro-2', 'read', 'poss-3(he)']\n",
      "['[UNK]', 'saw', 'pro-1(me)', 'return', 'pro-3(he)', '[UNK]', 'had', 'quitted', 'poss-3(he)']\n",
      "['and', '[UNK]', '[UNK]']\n",
      "['yes', 'that', 'must', 'be', 'sutherlan']\n",
      "['in', 'very', '[UNK]', '[UNK]', 'pro-3(he)', 'can', 'be', 'no', 'other']\n",
      "['poss-2', 'figure', 'and', '[UNK]', 'short', 'distance', 'away', 'attracted', 'poss-1', 'conduct', 'and', 'knowing', 'poss-2', '[UNK]', '[UNK]', '[UNK]']\n",
      "['what', '[UNK]', 'st', 'thou', 'boy', 'looke', 'in', 'ladies', 'face']\n",
      "['pro-3(he)', 'hath', 'arm', 'poss-1(our)', 'answer', 'and', '[UNK]', 'de', 'before', 'pro-3(he)', 'comes', 'yet', 'for', 'poss-1(our)', 'gentlemen', 'that', 'meane', '[UNK]', '[UNK]']\n",
      "['pro-1', 'had', 'no', 'reason', 'to', 'suppose', 'pro-3(he)benot', 'trying', 'these', 'things', 'happen', 'to', '[UNK]', '[UNK]', '[UNK]', '[UNK]', '[UNK]']\n",
      "['come', 'up']\n",
      "['[UNK]', 'ez', '[UNK]', 'disko']\n",
      "['pro-1', 'will', 'pro-1', 'said', '[UNK]', 'drawing', 'poss-1', 'sword', 'but', 'pro-1', 'have', 'done', 'nothing', 'yet']\n",
      "['blessing', 'on', 'thee']\n",
      "['at', 'oxford', 'at', 'least', 'pro-3(he)', 'seems', 'to', 'have', 'been', 'happy', 'pro-3(he)benot', 'rarely', 'knew', '[UNK]', '[UNK]', 'pro-3(he)', 'had', 'been', '[UNK]', '[UNK]']\n",
      "['indeed', 'pro-1(we)', '-', '-', '[UNK]']\n"
     ]
    }
   ],
   "source": [
    "asl_vocab = asl_vectorization.get_vocabulary()\n",
    "asl_index_lookup = dict(zip(range(len(asl_vocab)), asl_vocab))\n",
    "max_decoded_sentence_length = 20\n",
    "\n",
    "\n",
    "def decode_sequence(input_sentence):\n",
    "    tokenized_input_sentence = eng_vectorization([input_sentence])\n",
    "    decoded_sentence = \"[start]\"\n",
    "    sequence = []\n",
    "    for i in range(max_decoded_sentence_length):\n",
    "        tokenized_target_sentence = asl_vectorization([decoded_sentence])[:, :-1]\n",
    "        predictions = transformer([tokenized_input_sentence, tokenized_target_sentence])\n",
    "\n",
    "        sampled_token_index = np.argmax(predictions[0, i, :])\n",
    "        sampled_token = asl_index_lookup[sampled_token_index]\n",
    "        decoded_sentence += \" \" + sampled_token\n",
    "        sequence.append(sampled_token)\n",
    "        if sampled_token == \"[end]\":\n",
    "            sequence.pop()\n",
    "            break\n",
    "    return sequence\n",
    "\n",
    "\n",
    "test_eng_texts = [pair[0] for pair in test_pairs]\n",
    "test_asl_texts = [pair[1] for pair in test_pairs]\n",
    "for _ in range(30):\n",
    "    input_sentence = random.choice(test_eng_texts)\n",
    "    translated = decode_sequence(input_sentence)\n",
    "    print(translated)"
   ]
  },
  {
   "cell_type": "code",
   "execution_count": 25,
   "id": "b758cd55",
   "metadata": {},
   "outputs": [],
   "source": [
    "from nltk.translate.bleu_score import sentence_bleu"
   ]
  },
  {
   "cell_type": "code",
   "execution_count": 29,
   "id": "11324933",
   "metadata": {},
   "outputs": [
    {
     "name": "stdout",
     "output_type": "stream",
     "text": [
      "159100\n"
     ]
    }
   ],
   "source": [
    "print(len(test_eng_texts))"
   ]
  },
  {
   "cell_type": "code",
   "execution_count": 63,
   "id": "42e70afb",
   "metadata": {},
   "outputs": [
    {
     "name": "stdout",
     "output_type": "stream",
     "text": [
      "[['poss-1', 'lord', 'approaches']]\n",
      "['poss-1', 'lord', 'approaches']\n",
      "[['mr', 'andrews', 'experience', 'and', 'vision-lord', 'lyttelton', 'beboth', 'printed', 'in', 'scots', 'magazine', 'december', '1779']]\n",
      "['mr', '[UNK]', 'experience', 'and', '[UNK]', '[UNK]', 'printed', 'in', '[UNK]', 'magazine', 'december', '[UNK]', '[UNK]', '[UNK]', '[UNK]', '[UNK]', '[UNK]', '[UNK]', '[UNK]', '[UNK]']\n",
      "[['sir', 'pro-1(we)belegislators', 'not', 'antiquaries']]\n",
      "['sir', '[UNK]', 'not', '[UNK]']\n",
      "[['law', 'section', '735', '6th', 'ed']]\n",
      "['law', 'section', '[UNK]', 'rhine', '[UNK]']\n",
      "[['wh-q(why)did', 'father', 'kill', 'sheep']]\n",
      "['[UNK]', 'kill', 'sheep']\n",
      "[['that', 'night', 'mr', 'cooper', 'poss-3(they)', 'master', 'beto', 'attend', 'party', 'and', 'thisbeposs-3(they)', 'opportunity']]\n",
      "['that', 'night', 'mr', '--', '--', 'mr', '[UNK]', 'attend', 'party', 'and', 'this', '[UNK]', 'looking']\n",
      "[['pro-3(he)', 'longedbealone', 'to', 'recover', 'himself']]\n",
      "['pro-3(he)', '[UNK]', 'to', 'world', 'himself']\n",
      "[['mrs', 'quiverful', 'thanked', 'poss-3(he)', 'and', 'shook', 'hands', 'with', 'poss-3(he)', 'and', 'looked', 'into', 'poss-3(he)', 'face', 'suspiciously']]\n",
      "['mrs', 'quiverful', 'thanked', 'poss-3(he)', 'and', 'shook', 'hands', 'with', 'poss-3(he)', 'and', 'looked', 'into', 'poss-3(he)', 'face']\n",
      "[['lady', 'earle', 'sat', 'for', 'some', 'moments', 'too', 'much', 'astounded', 'for', 'speech']]\n",
      "['lady', 'earle', 'sat', 'for', 'some', 'moments', 'too', 'much', '[UNK]', 'for', 'speech']\n",
      "[['but', 'pro-1', 'll', 'get', 'some']]\n",
      "['but', 'pro-1', 'll', 'get', 'some']\n",
      "0.6087583190643412\n",
      "0.5235357211311377\n",
      "0.4154113927127925\n",
      "0.3404097806784382\n"
     ]
    }
   ],
   "source": [
    "\n",
    "#TODO otimizar. demora aprox 24hrs analizar 159100\n",
    "def shapeBLEUReference(string):\n",
    "    unfiltered = string.lower().replace(\"[start]\", \"\").replace(\"[end]\",\"\").split(\" \")\n",
    "    return list(filter(lambda text: text != '' and text != ' ', unfiltered))\n",
    "\n",
    "\n",
    "bleu1 = 0\n",
    "bleu2 = 0\n",
    "bleu3 = 0\n",
    "bleu4 = 0\n",
    "\n",
    "total = len(test_asl_texts)\n",
    "for i in range(10):\n",
    "    input_sentence = test_eng_texts[i]\n",
    "    translated = decode_sequence(input_sentence)\n",
    "    reference = [shapeBLEUReference(test_asl_texts[i])]\n",
    "    print(reference)\n",
    "    print(translated)\n",
    "    \n",
    "\n",
    "for i in range(total):\n",
    "    input_sentence = test_eng_texts[i]\n",
    "    translated = decode_sequence(input_sentence)\n",
    "    reference = [shapeBLEUReference(test_spa_texts[i])]\n",
    "    b1 = sentence_bleu(reference, translated, weights=(1, 0, 0, 0))\n",
    "    b2 = sentence_bleu(reference, translated, weights=(0.5, 0.5, 0, 0))\n",
    "    b3 = sentence_bleu(reference, translated, weights=(0.33, 0.33, 0.33, 0))\n",
    "    b4 = sentence_bleu(reference, translated, weights=(0.25, 0.25, 0.25, 0.25))\n",
    "    bleu1 += b1\n",
    "    bleu2 += b2\n",
    "    bleu3 += b3\n",
    "    bleu4 += b4\n",
    "    \n",
    "print(bleu1/total)\n",
    "print(bleu2/total)\n",
    "print(bleu3/total)\n",
    "print(bleu4/total)\n",
    "    \n",
    "    \n"
   ]
  },
  {
   "cell_type": "code",
   "execution_count": null,
   "id": "998a72ce",
   "metadata": {},
   "outputs": [],
   "source": []
  }
 ],
 "metadata": {
  "kernelspec": {
   "display_name": "Python 3 (ipykernel)",
   "language": "python",
   "name": "python3"
  },
  "language_info": {
   "codemirror_mode": {
    "name": "ipython",
    "version": 3
   },
   "file_extension": ".py",
   "mimetype": "text/x-python",
   "name": "python",
   "nbconvert_exporter": "python",
   "pygments_lexer": "ipython3",
   "version": "3.9.7"
  }
 },
 "nbformat": 4,
 "nbformat_minor": 5
}
